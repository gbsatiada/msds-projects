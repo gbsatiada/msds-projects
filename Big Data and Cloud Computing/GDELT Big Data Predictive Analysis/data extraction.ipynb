{
 "cells": [
  {
   "cell_type": "code",
   "execution_count": 1,
   "id": "3b210067-1f27-4e27-bc1d-d256bb524bfb",
   "metadata": {
    "execution": {
     "iopub.execute_input": "2024-06-05T06:12:11.910475Z",
     "iopub.status.busy": "2024-06-05T06:12:11.910176Z",
     "iopub.status.idle": "2024-06-05T06:12:54.297927Z",
     "shell.execute_reply": "2024-06-05T06:12:54.297439Z",
     "shell.execute_reply.started": "2024-06-05T06:12:11.910430Z"
    },
    "tags": []
   },
   "outputs": [
    {
     "data": {
      "application/vnd.jupyter.widget-view+json": {
       "model_id": "bc02f314a9c2438f9ee687aea9518285",
       "version_major": 2,
       "version_minor": 0
      },
      "text/plain": [
       "VBox()"
      ]
     },
     "metadata": {},
     "output_type": "display_data"
    },
    {
     "name": "stdout",
     "output_type": "stream",
     "text": [
      "Starting Spark application\n"
     ]
    },
    {
     "data": {
      "text/html": [
       "<table>\n",
       "<tbody><tr><th>ID</th><th>YARN Application ID</th><th>Kind</th><th>State</th><th>Spark UI</th><th>Driver log</th><th>User</th><th>Current session?</th></tr><tr><td>0</td><td>application_1717566354392_0001</td><td>pyspark</td><td>idle</td><td><a target=\"_blank\" href=\"http://ip-172-31-73-119.ec2.internal:20888/proxy/application_1717566354392_0001/\" class=\"emr-proxy-link j-C1ILL2D8QJY0 application_1717566354392_0001\" emr-resource=\"j-C1ILL2D8QJY0\n",
       "\" application-id=\"application_1717566354392_0001\">Link</a></td><td><a target=\"_blank\" href=\"http://ip-172-31-73-254.ec2.internal:8042/node/containerlogs/container_1717566354392_0001_01_000001/livy\">Link</a></td><td>None</td><td>✔</td></tr></tbody></table>"
      ],
      "text/plain": [
       "<IPython.core.display.HTML object>"
      ]
     },
     "metadata": {},
     "output_type": "display_data"
    },
    {
     "data": {
      "application/vnd.jupyter.widget-view+json": {
       "model_id": "",
       "version_major": 2,
       "version_minor": 0
      },
      "text/plain": [
       "FloatProgress(value=0.0, bar_style='info', description='Progress:', layout=Layout(height='25px', width='50%'),…"
      ]
     },
     "metadata": {},
     "output_type": "display_data"
    },
    {
     "name": "stdout",
     "output_type": "stream",
     "text": [
      "SparkSession available as 'spark'.\n"
     ]
    },
    {
     "data": {
      "application/vnd.jupyter.widget-view+json": {
       "model_id": "",
       "version_major": 2,
       "version_minor": 0
      },
      "text/plain": [
       "FloatProgress(value=0.0, bar_style='info', description='Progress:', layout=Layout(height='25px', width='50%'),…"
      ]
     },
     "metadata": {},
     "output_type": "display_data"
    }
   ],
   "source": [
    "from pyspark.sql import SparkSession\n",
    "from pyspark.sql import functions as F"
   ]
  },
  {
   "cell_type": "code",
   "execution_count": 2,
   "id": "f995fad5-a350-4184-8580-c04fd21c16c4",
   "metadata": {
    "execution": {
     "iopub.execute_input": "2024-06-05T06:12:59.696079Z",
     "iopub.status.busy": "2024-06-05T06:12:59.695879Z",
     "iopub.status.idle": "2024-06-05T06:12:59.741646Z",
     "shell.execute_reply": "2024-06-05T06:12:59.741164Z",
     "shell.execute_reply.started": "2024-06-05T06:12:59.696057Z"
    },
    "tags": []
   },
   "outputs": [
    {
     "data": {
      "application/vnd.jupyter.widget-view+json": {
       "model_id": "fb3b4e33e8744b4fac1ea1fb80d57c86",
       "version_major": 2,
       "version_minor": 0
      },
      "text/plain": [
       "VBox()"
      ]
     },
     "metadata": {},
     "output_type": "display_data"
    },
    {
     "data": {
      "application/vnd.jupyter.widget-view+json": {
       "model_id": "",
       "version_major": 2,
       "version_minor": 0
      },
      "text/plain": [
       "FloatProgress(value=0.0, bar_style='info', description='Progress:', layout=Layout(height='25px', width='50%'),…"
      ]
     },
     "metadata": {},
     "output_type": "display_data"
    }
   ],
   "source": [
    "spark = (SparkSession.builder \n",
    "         .master('yarn')\n",
    "         .getOrCreate())"
   ]
  },
  {
   "cell_type": "code",
   "execution_count": 3,
   "id": "e2a52a7e-0527-4596-b95a-ae5194fcc28c",
   "metadata": {
    "execution": {
     "iopub.execute_input": "2024-06-05T06:13:01.244713Z",
     "iopub.status.busy": "2024-06-05T06:13:01.244472Z",
     "iopub.status.idle": "2024-06-05T06:13:01.293738Z",
     "shell.execute_reply": "2024-06-05T06:13:01.293093Z",
     "shell.execute_reply.started": "2024-06-05T06:13:01.244687Z"
    },
    "tags": []
   },
   "outputs": [
    {
     "data": {
      "application/vnd.jupyter.widget-view+json": {
       "model_id": "52c507cfc11e409f87a410ae03c306b7",
       "version_major": 2,
       "version_minor": 0
      },
      "text/plain": [
       "VBox()"
      ]
     },
     "metadata": {},
     "output_type": "display_data"
    },
    {
     "data": {
      "application/vnd.jupyter.widget-view+json": {
       "model_id": "",
       "version_major": 2,
       "version_minor": 0
      },
      "text/plain": [
       "FloatProgress(value=0.0, bar_style='info', description='Progress:', layout=Layout(height='25px', width='50%'),…"
      ]
     },
     "metadata": {},
     "output_type": "display_data"
    }
   ],
   "source": [
    "s3_bucket_path = \"s3://bdcc2024-fp-cpt6/events/*.csv\""
   ]
  },
  {
   "cell_type": "code",
   "execution_count": 4,
   "id": "fee5cfa1-9df1-4389-a4c5-3ceb3f229538",
   "metadata": {
    "execution": {
     "iopub.execute_input": "2024-06-05T06:13:02.238311Z",
     "iopub.status.busy": "2024-06-05T06:13:02.238117Z",
     "iopub.status.idle": "2024-06-05T06:13:13.547768Z",
     "shell.execute_reply": "2024-06-05T06:13:13.547305Z",
     "shell.execute_reply.started": "2024-06-05T06:13:02.238291Z"
    },
    "tags": []
   },
   "outputs": [
    {
     "data": {
      "application/vnd.jupyter.widget-view+json": {
       "model_id": "23ac2f6bf11449be95750afb95796e09",
       "version_major": 2,
       "version_minor": 0
      },
      "text/plain": [
       "VBox()"
      ]
     },
     "metadata": {},
     "output_type": "display_data"
    },
    {
     "data": {
      "application/vnd.jupyter.widget-view+json": {
       "model_id": "",
       "version_major": 2,
       "version_minor": 0
      },
      "text/plain": [
       "FloatProgress(value=0.0, bar_style='info', description='Progress:', layout=Layout(height='25px', width='50%'),…"
      ]
     },
     "metadata": {},
     "output_type": "display_data"
    }
   ],
   "source": [
    "df = spark.read.csv(s3_bucket_path, sep='\\t')"
   ]
  },
  {
   "cell_type": "code",
   "execution_count": 5,
   "id": "6720de7a-bc29-4087-b2d9-37c1edd1d1ec",
   "metadata": {
    "execution": {
     "iopub.execute_input": "2024-06-05T06:13:14.429010Z",
     "iopub.status.busy": "2024-06-05T06:13:14.428808Z",
     "iopub.status.idle": "2024-06-05T06:13:14.470223Z",
     "shell.execute_reply": "2024-06-05T06:13:14.469724Z",
     "shell.execute_reply.started": "2024-06-05T06:13:14.428988Z"
    },
    "tags": []
   },
   "outputs": [
    {
     "data": {
      "application/vnd.jupyter.widget-view+json": {
       "model_id": "e3c05cc0da3a42efa0a6be2b197dee85",
       "version_major": 2,
       "version_minor": 0
      },
      "text/plain": [
       "VBox()"
      ]
     },
     "metadata": {},
     "output_type": "display_data"
    },
    {
     "data": {
      "application/vnd.jupyter.widget-view+json": {
       "model_id": "",
       "version_major": 2,
       "version_minor": 0
      },
      "text/plain": [
       "FloatProgress(value=0.0, bar_style='info', description='Progress:', layout=Layout(height='25px', width='50%'),…"
      ]
     },
     "metadata": {},
     "output_type": "display_data"
    }
   ],
   "source": [
    "columns = [\n",
    "    \"GLOBALEVENTID\", \"SQLDATE\", \"MonthYear\", \"Year\", \"FractionDate\",\n",
    "    \"Actor1Code\", \"Actor1Name\", \"Actor1CountryCode\", \"Actor1KnownGroupCode\",\n",
    "    \"Actor1EthnicCode\", \"Actor1Religion1Code\", \"Actor1Religion2Code\",\n",
    "    \"Actor1Type1Code\", \"Actor1Type2Code\", \"Actor1Type3Code\",\n",
    "    \"Actor2Code\", \"Actor2Name\", \"Actor2CountryCode\", \"Actor2KnownGroupCode\",\n",
    "    \"Actor2EthnicCode\", \"Actor2Religion1Code\", \"Actor2Religion2Code\",\n",
    "    \"Actor2Type1Code\", \"Actor2Type2Code\", \"Actor2Type3Code\",\n",
    "    \"IsRootEvent\", \"EventCode\", \"EventBaseCode\", \"EventRootCode\",\n",
    "    \"QuadClass\", \"GoldsteinScale\", \"NumMentions\", \"NumSources\", \"NumArticles\",\n",
    "    \"AvgTone\", \"Actor1Geo_Type\", \"Actor1Geo_FullName\", \"Actor1Geo_CountryCode\",\n",
    "    \"Actor1Geo_ADM1Code\", \"Actor1Geo_Lat\", \"Actor1Geo_Long\", \"Actor1Geo_FeatureID\",\n",
    "    \"Actor2Geo_Type\", \"Actor2Geo_FullName\", \"Actor2Geo_CountryCode\",\n",
    "    \"Actor2Geo_ADM1Code\", \"Actor2Geo_Lat\", \"Actor2Geo_Long\", \"Actor2Geo_FeatureID\",\n",
    "    \"ActionGeo_Type\", \"ActionGeo_FullName\", \"ActionGeo_CountryCode\",\n",
    "    \"ActionGeo_ADM1Code\", \"ActionGeo_Lat\", \"ActionGeo_Long\", \"ActionGeo_FeatureID\",\n",
    "    \"DATEADDED\", \"SOURCEURL\"\n",
    "]\n"
   ]
  },
  {
   "cell_type": "code",
   "execution_count": 6,
   "id": "209347b7-2db5-4212-9ef7-e464ee06a60a",
   "metadata": {
    "execution": {
     "iopub.execute_input": "2024-06-05T06:13:16.192784Z",
     "iopub.status.busy": "2024-06-05T06:13:16.192080Z",
     "iopub.status.idle": "2024-06-05T06:13:16.451808Z",
     "shell.execute_reply": "2024-06-05T06:13:16.451245Z",
     "shell.execute_reply.started": "2024-06-05T06:13:16.192760Z"
    },
    "tags": []
   },
   "outputs": [
    {
     "data": {
      "application/vnd.jupyter.widget-view+json": {
       "model_id": "de3065d0f2594b678739079605796fb5",
       "version_major": 2,
       "version_minor": 0
      },
      "text/plain": [
       "VBox()"
      ]
     },
     "metadata": {},
     "output_type": "display_data"
    },
    {
     "data": {
      "application/vnd.jupyter.widget-view+json": {
       "model_id": "",
       "version_major": 2,
       "version_minor": 0
      },
      "text/plain": [
       "FloatProgress(value=0.0, bar_style='info', description='Progress:', layout=Layout(height='25px', width='50%'),…"
      ]
     },
     "metadata": {},
     "output_type": "display_data"
    }
   ],
   "source": [
    "df = df.toDF(*columns)"
   ]
  },
  {
   "cell_type": "code",
   "execution_count": 7,
   "id": "017802ae-fa8b-46eb-a5ca-cabeea6cdce6",
   "metadata": {
    "execution": {
     "iopub.execute_input": "2024-06-05T06:13:17.424037Z",
     "iopub.status.busy": "2024-06-05T06:13:17.423835Z",
     "iopub.status.idle": "2024-06-05T06:13:17.465861Z",
     "shell.execute_reply": "2024-06-05T06:13:17.465306Z",
     "shell.execute_reply.started": "2024-06-05T06:13:17.424014Z"
    },
    "tags": []
   },
   "outputs": [
    {
     "data": {
      "application/vnd.jupyter.widget-view+json": {
       "model_id": "07a181db403e46d59fcaf8580a4e32ab",
       "version_major": 2,
       "version_minor": 0
      },
      "text/plain": [
       "VBox()"
      ]
     },
     "metadata": {},
     "output_type": "display_data"
    },
    {
     "data": {
      "application/vnd.jupyter.widget-view+json": {
       "model_id": "",
       "version_major": 2,
       "version_minor": 0
      },
      "text/plain": [
       "FloatProgress(value=0.0, bar_style='info', description='Progress:', layout=Layout(height='25px', width='50%'),…"
      ]
     },
     "metadata": {},
     "output_type": "display_data"
    }
   ],
   "source": [
    "cols = ['GLOBALEVENTID', 'Actor1Code', 'Actor1Name', 'Actor1CountryCode', 'Actor1Type1Code',\n",
    " 'IsRootEvent', 'EventCode', 'EventBaseCode', 'EventRootCode', 'QuadClass', 'GoldsteinScale',\n",
    " 'NumMentions', 'NumSources', 'NumArticles', 'AvgTone', 'Year', 'SQLDATE']\n"
   ]
  },
  {
   "cell_type": "code",
   "execution_count": 8,
   "id": "2df1061c-387e-460d-aad8-7e9c994f5c34",
   "metadata": {
    "execution": {
     "iopub.execute_input": "2024-06-05T06:13:18.934718Z",
     "iopub.status.busy": "2024-06-05T06:13:18.934520Z",
     "iopub.status.idle": "2024-06-05T06:13:19.179710Z",
     "shell.execute_reply": "2024-06-05T06:13:19.179167Z",
     "shell.execute_reply.started": "2024-06-05T06:13:18.934696Z"
    },
    "tags": []
   },
   "outputs": [
    {
     "data": {
      "application/vnd.jupyter.widget-view+json": {
       "model_id": "ac0c9090407c4ac2a6f195fca8d787ec",
       "version_major": 2,
       "version_minor": 0
      },
      "text/plain": [
       "VBox()"
      ]
     },
     "metadata": {},
     "output_type": "display_data"
    },
    {
     "data": {
      "application/vnd.jupyter.widget-view+json": {
       "model_id": "",
       "version_major": 2,
       "version_minor": 0
      },
      "text/plain": [
       "FloatProgress(value=0.0, bar_style='info', description='Progress:', layout=Layout(height='25px', width='50%'),…"
      ]
     },
     "metadata": {},
     "output_type": "display_data"
    }
   ],
   "source": [
    "df1 = df.select(cols)"
   ]
  },
  {
   "cell_type": "code",
   "execution_count": 9,
   "id": "a10ede84-729d-422e-a1de-bd984578ff72",
   "metadata": {
    "execution": {
     "iopub.execute_input": "2024-06-05T06:13:20.472875Z",
     "iopub.status.busy": "2024-06-05T06:13:20.472674Z",
     "iopub.status.idle": "2024-06-05T06:13:20.719367Z",
     "shell.execute_reply": "2024-06-05T06:13:20.718711Z",
     "shell.execute_reply.started": "2024-06-05T06:13:20.472853Z"
    },
    "tags": []
   },
   "outputs": [
    {
     "data": {
      "application/vnd.jupyter.widget-view+json": {
       "model_id": "01d6756c24bd48308a3b4c6a1580f529",
       "version_major": 2,
       "version_minor": 0
      },
      "text/plain": [
       "VBox()"
      ]
     },
     "metadata": {},
     "output_type": "display_data"
    },
    {
     "data": {
      "application/vnd.jupyter.widget-view+json": {
       "model_id": "",
       "version_major": 2,
       "version_minor": 0
      },
      "text/plain": [
       "FloatProgress(value=0.0, bar_style='info', description='Progress:', layout=Layout(height='25px', width='50%'),…"
      ]
     },
     "metadata": {},
     "output_type": "display_data"
    },
    {
     "name": "stdout",
     "output_type": "stream",
     "text": [
      "DataFrame[GLOBALEVENTID: string, Actor1Code: string, Actor1Name: string, Actor1CountryCode: string, Actor1Type1Code: string, IsRootEvent: string, EventCode: string, EventBaseCode: string, EventRootCode: string, QuadClass: string, GoldsteinScale: string, NumMentions: string, NumSources: string, NumArticles: string, AvgTone: string, Year: string, SQLDATE: string]"
     ]
    }
   ],
   "source": [
    "df1.persist()"
   ]
  },
  {
   "cell_type": "code",
   "execution_count": 11,
   "id": "e4db08ec-39e9-4fc5-b6f2-4b03893db94b",
   "metadata": {
    "execution": {
     "iopub.execute_input": "2024-06-05T06:13:38.421859Z",
     "iopub.status.busy": "2024-06-05T06:13:38.421642Z",
     "iopub.status.idle": "2024-06-05T06:16:24.244773Z",
     "shell.execute_reply": "2024-06-05T06:16:24.244271Z",
     "shell.execute_reply.started": "2024-06-05T06:13:38.421835Z"
    },
    "tags": []
   },
   "outputs": [
    {
     "data": {
      "application/vnd.jupyter.widget-view+json": {
       "model_id": "818361fc26eb4953a3c26fae9f2d2e8a",
       "version_major": 2,
       "version_minor": 0
      },
      "text/plain": [
       "VBox()"
      ]
     },
     "metadata": {},
     "output_type": "display_data"
    },
    {
     "data": {
      "application/vnd.jupyter.widget-view+json": {
       "model_id": "",
       "version_major": 2,
       "version_minor": 0
      },
      "text/plain": [
       "FloatProgress(value=0.0, bar_style='info', description='Progress:', layout=Layout(height='25px', width='50%'),…"
      ]
     },
     "metadata": {},
     "output_type": "display_data"
    },
    {
     "name": "stdout",
     "output_type": "stream",
     "text": [
      "-RECORD 0----------------------\n",
      " GLOBALEVENTID     | 0         \n",
      " Actor1Code        | 17946129  \n",
      " Actor1Name        | 17945831  \n",
      " Actor1CountryCode | 84840261  \n",
      " Actor1Type1Code   | 108828253 \n",
      " IsRootEvent       | 0         \n",
      " EventCode         | 0         \n",
      " EventBaseCode     | 0         \n",
      " EventRootCode     | 0         \n",
      " QuadClass         | 0         \n",
      " GoldsteinScale    | 829       \n",
      " NumMentions       | 0         \n",
      " NumSources        | 0         \n",
      " NumArticles       | 0         \n",
      " AvgTone           | 0         \n",
      " Year              | 0         \n",
      " SQLDATE           | 0"
     ]
    }
   ],
   "source": [
    "df1.select([F.count(F.when(F.col(c).isNull(), c)).alias(c) for c in df1.columns]).show(truncate=False, vertical=True)"
   ]
  },
  {
   "cell_type": "code",
   "execution_count": 18,
   "id": "50ba1d20-4fc9-4e53-a49f-1c5728ce6fad",
   "metadata": {
    "execution": {
     "iopub.execute_input": "2024-06-03T06:21:32.540613Z",
     "iopub.status.busy": "2024-06-03T06:21:32.540410Z",
     "iopub.status.idle": "2024-06-03T06:21:32.780026Z",
     "shell.execute_reply": "2024-06-03T06:21:32.779538Z",
     "shell.execute_reply.started": "2024-06-03T06:21:32.540591Z"
    }
   },
   "outputs": [
    {
     "data": {
      "application/vnd.jupyter.widget-view+json": {
       "model_id": "399cf4a1f99745318b9d42304a2a3c1a",
       "version_major": 2,
       "version_minor": 0
      },
      "text/plain": [
       "VBox()"
      ]
     },
     "metadata": {},
     "output_type": "display_data"
    },
    {
     "data": {
      "application/vnd.jupyter.widget-view+json": {
       "model_id": "",
       "version_major": 2,
       "version_minor": 0
      },
      "text/plain": [
       "FloatProgress(value=0.0, bar_style='info', description='Progress:', layout=Layout(height='25px', width='50%'),…"
      ]
     },
     "metadata": {},
     "output_type": "display_data"
    }
   ],
   "source": [
    "test = df1.na.drop()"
   ]
  },
  {
   "cell_type": "code",
   "execution_count": 19,
   "id": "5fb673e7-db3f-4a49-b928-21aae18c5daa",
   "metadata": {
    "execution": {
     "iopub.execute_input": "2024-06-03T06:21:39.474149Z",
     "iopub.status.busy": "2024-06-03T06:21:39.473927Z",
     "iopub.status.idle": "2024-06-03T06:24:09.193741Z",
     "shell.execute_reply": "2024-06-03T06:24:09.193258Z",
     "shell.execute_reply.started": "2024-06-03T06:21:39.474124Z"
    },
    "tags": []
   },
   "outputs": [
    {
     "data": {
      "application/vnd.jupyter.widget-view+json": {
       "model_id": "77f14d191cd048f483a53831e78bee85",
       "version_major": 2,
       "version_minor": 0
      },
      "text/plain": [
       "VBox()"
      ]
     },
     "metadata": {},
     "output_type": "display_data"
    },
    {
     "data": {
      "application/vnd.jupyter.widget-view+json": {
       "model_id": "",
       "version_major": 2,
       "version_minor": 0
      },
      "text/plain": [
       "FloatProgress(value=0.0, bar_style='info', description='Progress:', layout=Layout(height='25px', width='50%'),…"
      ]
     },
     "metadata": {},
     "output_type": "display_data"
    },
    {
     "name": "stdout",
     "output_type": "stream",
     "text": [
      "22717192"
     ]
    }
   ],
   "source": [
    "test.count()"
   ]
  },
  {
   "cell_type": "code",
   "execution_count": 22,
   "id": "ce95f5ac-0c85-42ca-89dd-e837fc50b26b",
   "metadata": {
    "execution": {
     "iopub.execute_input": "2024-06-03T06:24:52.735341Z",
     "iopub.status.busy": "2024-06-03T06:24:52.735133Z",
     "iopub.status.idle": "2024-06-03T06:25:06.028095Z",
     "shell.execute_reply": "2024-06-03T06:25:06.027440Z",
     "shell.execute_reply.started": "2024-06-03T06:24:52.735319Z"
    },
    "tags": []
   },
   "outputs": [
    {
     "data": {
      "application/vnd.jupyter.widget-view+json": {
       "model_id": "96b6d8232d904c178d59863800447707",
       "version_major": 2,
       "version_minor": 0
      },
      "text/plain": [
       "VBox()"
      ]
     },
     "metadata": {},
     "output_type": "display_data"
    },
    {
     "data": {
      "application/vnd.jupyter.widget-view+json": {
       "model_id": "",
       "version_major": 2,
       "version_minor": 0
      },
      "text/plain": [
       "FloatProgress(value=0.0, bar_style='info', description='Progress:', layout=Layout(height='25px', width='50%'),…"
      ]
     },
     "metadata": {},
     "output_type": "display_data"
    },
    {
     "name": "stdout",
     "output_type": "stream",
     "text": [
      "-RECORD 0----------------\n",
      " GLOBALEVENTID     | 0   \n",
      " Actor1Code        | 0   \n",
      " Actor1Name        | 0   \n",
      " Actor1CountryCode | 0   \n",
      " Actor1Type1Code   | 0   \n",
      " IsRootEvent       | 0   \n",
      " EventCode         | 0   \n",
      " EventBaseCode     | 0   \n",
      " EventRootCode     | 0   \n",
      " QuadClass         | 0   \n",
      " GoldsteinScale    | 0   \n",
      " NumMentions       | 0   \n",
      " NumSources        | 0   \n",
      " NumArticles       | 0   \n",
      " AvgTone           | 0   \n",
      " Year              | 0   \n",
      " SQLDATE           | 0"
     ]
    }
   ],
   "source": [
    "test.select([F.count(F.when(F.col(c).isNull(), c)).alias(c) for c in test.columns]).show(truncate=False, vertical=True)"
   ]
  },
  {
   "cell_type": "code",
   "execution_count": 23,
   "id": "75a58a71-4914-41ab-b02f-ddb83a94ca34",
   "metadata": {
    "execution": {
     "iopub.execute_input": "2024-06-03T06:25:40.635500Z",
     "iopub.status.busy": "2024-06-03T06:25:40.635297Z",
     "iopub.status.idle": "2024-06-03T06:26:50.085691Z",
     "shell.execute_reply": "2024-06-03T06:26:50.085149Z",
     "shell.execute_reply.started": "2024-06-03T06:25:40.635479Z"
    }
   },
   "outputs": [
    {
     "data": {
      "application/vnd.jupyter.widget-view+json": {
       "model_id": "bb52a6ae80a048918700ad561c661912",
       "version_major": 2,
       "version_minor": 0
      },
      "text/plain": [
       "VBox()"
      ]
     },
     "metadata": {},
     "output_type": "display_data"
    },
    {
     "data": {
      "application/vnd.jupyter.widget-view+json": {
       "model_id": "",
       "version_major": 2,
       "version_minor": 0
      },
      "text/plain": [
       "FloatProgress(value=0.0, bar_style='info', description='Progress:', layout=Layout(height='25px', width='50%'),…"
      ]
     },
     "metadata": {},
     "output_type": "display_data"
    }
   ],
   "source": [
    "(test.write.parquet('s3://bdcc2024-fp-cpt6/final_parquet', mode='overwrite',\n",
    "                     partitionBy=['SQLDATE', 'Year']))"
   ]
  },
  {
   "cell_type": "code",
   "execution_count": 25,
   "id": "29a0f514-0e7b-4b2f-b8b1-fe9ce139c15c",
   "metadata": {
    "execution": {
     "iopub.execute_input": "2024-06-03T06:27:14.015864Z",
     "iopub.status.busy": "2024-06-03T06:27:14.015660Z",
     "iopub.status.idle": "2024-06-03T06:27:23.294448Z",
     "shell.execute_reply": "2024-06-03T06:27:23.293932Z",
     "shell.execute_reply.started": "2024-06-03T06:27:14.015842Z"
    },
    "tags": []
   },
   "outputs": [
    {
     "data": {
      "application/vnd.jupyter.widget-view+json": {
       "model_id": "04873b8237044684a0b4730f9fa2d1f4",
       "version_major": 2,
       "version_minor": 0
      },
      "text/plain": [
       "VBox()"
      ]
     },
     "metadata": {},
     "output_type": "display_data"
    },
    {
     "data": {
      "application/vnd.jupyter.widget-view+json": {
       "model_id": "",
       "version_major": 2,
       "version_minor": 0
      },
      "text/plain": [
       "FloatProgress(value=0.0, bar_style='info', description='Progress:', layout=Layout(height='25px', width='50%'),…"
      ]
     },
     "metadata": {},
     "output_type": "display_data"
    }
   ],
   "source": [
    "tr = spark.read.parquet('s3://bdcc2024-fp-cpt6/final_parquet')"
   ]
  },
  {
   "cell_type": "code",
   "execution_count": 26,
   "id": "6ecd9e03-257d-4286-ac05-5f0c95b8c7f1",
   "metadata": {
    "execution": {
     "iopub.execute_input": "2024-06-03T06:27:30.660519Z",
     "iopub.status.busy": "2024-06-03T06:27:30.660318Z",
     "iopub.status.idle": "2024-06-03T06:27:35.937860Z",
     "shell.execute_reply": "2024-06-03T06:27:35.937366Z",
     "shell.execute_reply.started": "2024-06-03T06:27:30.660497Z"
    }
   },
   "outputs": [
    {
     "data": {
      "application/vnd.jupyter.widget-view+json": {
       "model_id": "1e44ee5e5eaa43a78fe79689e40d36d5",
       "version_major": 2,
       "version_minor": 0
      },
      "text/plain": [
       "VBox()"
      ]
     },
     "metadata": {},
     "output_type": "display_data"
    },
    {
     "data": {
      "application/vnd.jupyter.widget-view+json": {
       "model_id": "",
       "version_major": 2,
       "version_minor": 0
      },
      "text/plain": [
       "FloatProgress(value=0.0, bar_style='info', description='Progress:', layout=Layout(height='25px', width='50%'),…"
      ]
     },
     "metadata": {},
     "output_type": "display_data"
    },
    {
     "name": "stdout",
     "output_type": "stream",
     "text": [
      "22717192"
     ]
    }
   ],
   "source": [
    "tr.count()"
   ]
  },
  {
   "cell_type": "code",
   "execution_count": null,
   "id": "416193e0-51c1-4359-a6ff-b45a1ac95f0c",
   "metadata": {},
   "outputs": [],
   "source": []
  }
 ],
 "metadata": {
  "kernelspec": {
   "display_name": "Python 3 (ipykernel)",
   "language": "python",
   "name": "python3"
  },
  "language_info": {
   "codemirror_mode": {
    "name": "ipython",
    "version": 3
   },
   "file_extension": ".py",
   "mimetype": "text/x-python",
   "name": "python",
   "nbconvert_exporter": "python",
   "pygments_lexer": "ipython3",
   "version": "3.11.8"
  }
 },
 "nbformat": 4,
 "nbformat_minor": 5
}
